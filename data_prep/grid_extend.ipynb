{
 "cells": [
  {
   "cell_type": "markdown",
   "metadata": {},
   "source": [
    "# GEOS-Chem"
   ]
  },
  {
   "cell_type": "code",
   "execution_count": 1,
   "metadata": {},
   "outputs": [],
   "source": [
    "import xarray as xr"
   ]
  },
  {
   "cell_type": "code",
   "execution_count": 2,
   "metadata": {},
   "outputs": [],
   "source": [
    "meteo = xr.open_dataset('/uufs/chpc.utah.edu/common/home/u1474799/haskins-group1/data/ExtData/GEOS_0.25x0.3125_NA/GEOS_FP/2017/01/GEOSFP.20170101.A1.025x03125.NA.nc')"
   ]
  },
  {
   "cell_type": "code",
   "execution_count": null,
   "metadata": {},
   "outputs": [],
   "source": [
    "# utah boundary:\n",
    "# Latitude\t37° N to 42° N\n",
    "# Longitude\t109°3′ W to 114°3′ W\n",
    "\n",
    "# https://en.wikipedia.org/wiki/Utah"
   ]
  },
  {
   "cell_type": "code",
   "execution_count": 3,
   "metadata": {},
   "outputs": [],
   "source": [
    "rightbottom = meteo.sel(lat = 37, lon = -109.3, method = 'nearest')\n",
    "leftbottom = meteo.sel(lat = 37, lon = -114.3, method = 'nearest')\n",
    "righttop = meteo.sel(lat = 42, lon = -114.3, method = 'nearest')\n",
    "lefttop = meteo.sel(lat = 42, lon = -109.3, method = 'nearest')"
   ]
  },
  {
   "cell_type": "code",
   "execution_count": 4,
   "metadata": {},
   "outputs": [
    {
     "data": {
      "text/plain": [
       "(array(37., dtype=float32), array(-109.375, dtype=float32))"
      ]
     },
     "execution_count": 4,
     "metadata": {},
     "output_type": "execute_result"
    }
   ],
   "source": [
    "rightbottom.lat.values, rightbottom.lon.values"
   ]
  },
  {
   "cell_type": "code",
   "execution_count": 5,
   "metadata": {},
   "outputs": [
    {
     "data": {
      "text/plain": [
       "(array(37., dtype=float32), array(-114.375, dtype=float32))"
      ]
     },
     "execution_count": 5,
     "metadata": {},
     "output_type": "execute_result"
    }
   ],
   "source": [
    "leftbottom.lat.values, leftbottom.lon.values"
   ]
  },
  {
   "cell_type": "code",
   "execution_count": 6,
   "metadata": {},
   "outputs": [
    {
     "data": {
      "text/plain": [
       "(array(42., dtype=float32), array(-114.375, dtype=float32))"
      ]
     },
     "execution_count": 6,
     "metadata": {},
     "output_type": "execute_result"
    }
   ],
   "source": [
    "righttop.lat.values, righttop.lon.values"
   ]
  },
  {
   "cell_type": "code",
   "execution_count": 7,
   "metadata": {},
   "outputs": [
    {
     "data": {
      "text/plain": [
       "(array(42., dtype=float32), array(-109.375, dtype=float32))"
      ]
     },
     "execution_count": 7,
     "metadata": {},
     "output_type": "execute_result"
    }
   ],
   "source": [
    "lefttop.lat.values, lefttop.lon.values"
   ]
  },
  {
   "cell_type": "markdown",
   "metadata": {},
   "source": [
    "**Therefore, if we are going to use the GEOS-Chem, the grid lat is 37 - 42, and the grid lon is -109.375 to 114.375.**"
   ]
  },
  {
   "cell_type": "markdown",
   "metadata": {},
   "source": [
    "# ERA5 hourly analysis"
   ]
  },
  {
   "cell_type": "markdown",
   "metadata": {},
   "source": [
    "data link: https://cds.climate.copernicus.eu/datasets/reanalysis-era5-single-levels?tab=overview."
   ]
  },
  {
   "cell_type": "code",
   "execution_count": null,
   "metadata": {},
   "outputs": [],
   "source": [
    "netds = xr.open_dataset(\"/uufs/chpc.utah.edu/common/home/u1474799/szhao/Algorithm/meteo_replacement/ERA_real_check.nc\")"
   ]
  },
  {
   "cell_type": "markdown",
   "metadata": {},
   "source": [
    "I've checked the lat and lon, for the utah, we can use:  \n",
    "\n",
    "+ lat: 37 - 42 (stride: 0.25)\n",
    "\n",
    "+ lon: -109 - -114.  (stride: 0.25)"
   ]
  },
  {
   "cell_type": "markdown",
   "metadata": {},
   "source": [
    "Grid resolution: 0.25 * 0.25."
   ]
  },
  {
   "cell_type": "markdown",
   "metadata": {},
   "source": [
    "**If we are going to consider air quality, then use the 0.25 * 0.3125 grid resolution eventually.**"
   ]
  }
 ],
 "metadata": {
  "kernelspec": {
   "display_name": "Python 3",
   "language": "python",
   "name": "python3"
  },
  "language_info": {
   "codemirror_mode": {
    "name": "ipython",
    "version": 3
   },
   "file_extension": ".py",
   "mimetype": "text/x-python",
   "name": "python",
   "nbconvert_exporter": "python",
   "pygments_lexer": "ipython3",
   "version": "3.9.6"
  }
 },
 "nbformat": 4,
 "nbformat_minor": 2
}
